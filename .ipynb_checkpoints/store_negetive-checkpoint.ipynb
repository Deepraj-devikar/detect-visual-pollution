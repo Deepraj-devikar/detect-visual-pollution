{
 "cells": [
  {
   "cell_type": "markdown",
   "metadata": {},
   "source": [
    "# Storing Negative Images For Training model\n",
    "\n",
    "* We have images in our dataset \n",
    "* We have to find out those images which dosen't have visual pollution of any specified category\n",
    "* Then have to store this image to dataset/model/{CATEGORY_OF_VISULA_POLLUTION}/not_croped_negative directory\n",
    "* so we can divide those images in small small parts and can make our negative images data\n",
    "\n",
    "this file is storing croped negative images in dataset/model/{CATEGORY_OF_VISULA_POLLUTION}/long_n directory"
   ]
  },
  {
   "cell_type": "code",
   "execution_count": null,
   "metadata": {},
   "outputs": [],
   "source": [
    "# importing openCV library\n",
    "import cv2\n",
    "# importing os for managing directory\n",
    "import os\n",
    "# importing pandas for managing CSV files\n",
    "import pandas as pd"
   ]
  },
  {
   "cell_type": "code",
   "execution_count": null,
   "metadata": {},
   "outputs": [],
   "source": [
    "def make_image_parts(count, image, lable, image_name, x_part_count, y_part_count):\n",
    "    # calculate pixel count according to how much parts of image have to do\n",
    "    y_per_pixel_count = int(image.shape[0] // y_part_count)\n",
    "    x_per_pixel_count = int(image.shape[1] // x_part_count)\n",
    "    inner_count = 0\n",
    "    for y in range(0, int(image.shape[0] - 1), y_per_pixel_count):\n",
    "        for x in range(0, int(image.shape[1] - 1), x_per_pixel_count):\n",
    "            inner_count += 1\n",
    "            \n",
    "            # croping iamge according to how much parts have to make\n",
    "            crop = image[y:y + y_per_pixel_count, x:x + x_per_pixel_count]\n",
    "            \n",
    "            # have to store image to long_n directory according to label and count\n",
    "            # if directory is not created then have to create directory\n",
    "            if not os.path.isdir(\"dataset/model/\"+label+\"/long_n\"):\n",
    "                os.makedirs(\"dataset/model/\"+label+\"/long_n\")\n",
    "            try:\n",
    "                cv2.imwrite(\"dataset/model/\"+label+\"/long_n/\" + \"n_img_\" + str(count) + \"_\" + str(inner_count) + image_name, crop)\n",
    "                print(\"Line {}: {}\".format(inner_count, image_name))\n",
    "            except:\n",
    "                pass"
   ]
  },
  {
   "cell_type": "code",
   "execution_count": null,
   "metadata": {},
   "outputs": [],
   "source": [
    "pollution_categories = [\"GRAFFITI\",\n",
    "    \"FADED_SIGNAGE\",\n",
    "    \"POTHOLES\",\n",
    "    \"GARBAGE\",\n",
    "    \"CONSTRUCTION_ROAD\",\n",
    "    \"BROKEN_SIGNAGE\",\n",
    "    \"BAD_STREETLIGHT\",\n",
    "    \"BAD_BILLBOARD\",\n",
    "    \"SAND_ON_ROAD\",\n",
    "    \"CLUTTER_SIDEWALK\",\n",
    "    \"UNKEPT_FACADE\"\n",
    "]\n",
    "\n",
    "current_pollution_category = pollution_categories[0]\n",
    "\n",
    "# making data frame according to train.csv file\n",
    "files_data_frame = pd.read_csv(\"dataset/model/\"+current_pollution_category+\"/not_croped_negetive_files.csv\", columns=[\"image_path\"])\n",
    "count = 0\n",
    "for file_index in files_data_frame.index:\n",
    "    count += 1\n",
    "    print(files_data_frame[\"image_path\"][file_index])\n",
    "    \n",
    "    # reading image using opencv\n",
    "    image = cv2.imread(\"dataset/model/\"+current_pollution_category+\"/not_croped_negetive/\"+files_data_frame[\"image_path\"][file_index])\n",
    "    \n",
    "    to_make_x_parts = 8\n",
    "    to_make_y_parts = 8\n",
    "    make_image_parts(\n",
    "        count,\n",
    "        image,\n",
    "        current_pollution_category,\n",
    "        files_data_frame[\"image_path\"][file_index],\n",
    "        to_make_x_parts,\n",
    "        to_make_y_parts\n",
    "    )"
   ]
  }
 ],
 "metadata": {
  "kernelspec": {
   "display_name": "Python 3",
   "language": "python",
   "name": "python3"
  },
  "language_info": {
   "codemirror_mode": {
    "name": "ipython",
    "version": 3
   },
   "file_extension": ".py",
   "mimetype": "text/x-python",
   "name": "python",
   "nbconvert_exporter": "python",
   "pygments_lexer": "ipython3",
   "version": "3.8.5"
  }
 },
 "nbformat": 4,
 "nbformat_minor": 4
}
