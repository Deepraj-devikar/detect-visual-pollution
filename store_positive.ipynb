{
 "cells": [
  {
   "cell_type": "markdown",
   "metadata": {},
   "source": [
    "# Storing Positive Images For Training model\n",
    "\n",
    "* we have images and also have data about images in train.csv file\n",
    "* In train.csv file we have image_path, category of visual pollution, X min, X max, Y min, Y max \n",
    "* X min, X max, Y min, Y max form bounding boxes by points c1 (X min, Y min) c2 (X max, Y max)\n",
    "\n",
    "* We have to crop images according to bounding boxes\n",
    "* So It will be positive data for visual pollution \n",
    "\n",
    "this file is storing croped positive images in dataset/model/{CATEGORY_OF_VISULA_POLLUTION}/long_p directory"
   ]
  },
  {
   "cell_type": "markdown",
   "metadata": {},
   "source": [
    "Category of visual pollution\n",
    "* GRAFFITI\n",
    "* FADED SIGNAGE\n",
    "* POTHOLES\n",
    "* GARBAGE\n",
    "* CONSTRUCTION ROAD\n",
    "* BROKEN_SIGNAGE\n",
    "* BAD STREETLIGHT\n",
    "* BAD BILLBOARD\n",
    "* SAND ON ROAD\n",
    "* CLUTTER_SIDEWALK\n",
    "* UNKEPT_FACADE"
   ]
  },
  {
   "cell_type": "code",
   "execution_count": null,
   "metadata": {},
   "outputs": [],
   "source": [
    "# importing openCV library\n",
    "import cv2\n",
    "# importing os for managing directory\n",
    "import os\n",
    "# importing pandas for managing CSV files\n",
    "import pandas as pd"
   ]
  },
  {
   "cell_type": "code",
   "execution_count": null,
   "metadata": {},
   "outputs": [],
   "source": [
    "def crop_by_bounding_box(count, coordinate, image, label, image_name):\n",
    "    '''\n",
    "        crop image by coordinates of bpounding box\n",
    "        label is category of visual pollution\n",
    "        have to store croped image into long_p directory according to label and count\n",
    "    '''\n",
    "    # have to take care of min point should be top left point of bounding box and max should be bottom right point of bounding box\n",
    "    xMin = int(coordinate[0]) if int(coordinate[0]) <= int(coordinate[2]) else int(coordinate[2])\n",
    "    xMax = int(coordinate[0]) if xMin == int(coordinate[2]) else int(coordinate[2])\n",
    "    yMin = int(coordinate[1]) if int(coordinate[1]) <= int(coordinate[3]) else int(coordinate[3])\n",
    "    yMax = int(coordinate[1]) if yMin == int(coordinate[3]) else int(coordinate[3])\n",
    "    \n",
    "    # croping image have to take care bounding box not have to go outised of bounding box\n",
    "    crop = img[\n",
    "        0 if yMin <= 0 else yMin:image.shape[0] - 10 if yMax >= image.shape[0] - 10 else yMax, \n",
    "        0 if xMin <= 0 else xMin:image.shape[1] - 10 if xMax >= image.shape[1] - 10 else xMax\n",
    "    ]\n",
    "    \n",
    "    # have to store image to long_p directory according to label and count\n",
    "    # if directory is not created then have to create directory\n",
    "    if not os.path.isdir(\"dataset/model/\"+label+\"/long_p\"):\n",
    "        os.makedirs(\"dataset/model/\"+label+\"/long_p\")\n",
    "    try:\n",
    "        cv2.imwrite(\"dataset/model/\"+label+\"/long_p/\" + \"p_img_\" + str(count) + image_name, crop)\n",
    "        print(\"Line {}: {}\".format(count, image_name))\n",
    "    except:\n",
    "        pass"
   ]
  },
  {
   "cell_type": "code",
   "execution_count": null,
   "metadata": {},
   "outputs": [],
   "source": [
    "# making data frame according to train.csv file\n",
    "files_data_frame = pd.read_csv(\"dataset/train.csv\", columns=[\"class\",\"image_path\",\"name\",\"xmax\",\"xmin\",\"ymax\",\"ymin\"])\n",
    "count = 0\n",
    "for file_index in files_data_frame.index:\n",
    "    count += 1\n",
    "    print(files_data_frame[\"image_path\"][file_index])\n",
    "    \n",
    "    # reading image using opencv\n",
    "    image = cv2.imread(\"dataset/images/\"+files_data_frame[\"image_path\"][file_index])\n",
    "    \n",
    "    # note down points of bounding box\n",
    "    xMax = int(float(files_data_frame[\"xmax\"][file_index])) * 2\n",
    "    xMin = int(float(files_data_frame[\"xmin\"][file_index])) * 2\n",
    "    yMax = int(float(files_data_frame[\"ymax\"][file_index])) * 2\n",
    "    yMin = int(float(files_data_frame[\"ymin\"][file_index])) * 2\n",
    "    crop_by_bounding_box(\n",
    "        count, \n",
    "        [xMin, yMin, xMax, yMax], \n",
    "        image, \n",
    "        files_data_frame[\"name\"][file_index], \n",
    "        files_data_frame[\"image_path\"][file_index]\n",
    "    )"
   ]
  }
 ],
 "metadata": {
  "kernelspec": {
   "display_name": "Python 3",
   "language": "python",
   "name": "python3"
  },
  "language_info": {
   "codemirror_mode": {
    "name": "ipython",
    "version": 3
   },
   "file_extension": ".py",
   "mimetype": "text/x-python",
   "name": "python",
   "nbconvert_exporter": "python",
   "pygments_lexer": "ipython3",
   "version": "3.8.5"
  }
 },
 "nbformat": 4,
 "nbformat_minor": 4
}
